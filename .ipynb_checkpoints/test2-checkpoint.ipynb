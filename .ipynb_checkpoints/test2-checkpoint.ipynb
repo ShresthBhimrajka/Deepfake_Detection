{
 "cells": [
  {
   "cell_type": "code",
   "execution_count": 1,
   "id": "bfd140ec-3523-462c-be25-4714ec629410",
   "metadata": {},
   "outputs": [],
   "source": [
    "import os\n",
    "import cv2\n",
    "import json\n",
    "import tensorflow as tf\n",
    "import numpy as np\n",
    "import matplotlib.pyplot as plt\n",
    "import seaborn as sn\n",
    "import pandas as pd\n",
    "from tensorflow.keras.preprocessing.image import ImageDataGenerator, img_to_array, load_img\n",
    "from tensorflow.keras.utils import to_categorical\n",
    "from tensorflow.keras.models import load_model\n",
    "from sklearn.model_selection import train_test_split\n",
    "from sklearn.metrics import confusion_matrix\n",
    "import pathlib"
   ]
  },
  {
   "cell_type": "code",
   "execution_count": 22,
   "id": "f2388f99-55d3-4b5d-963d-68fa65f6355e",
   "metadata": {},
   "outputs": [],
   "source": [
    "# folder = \"dataset/fake\"\n",
    "# count = 1628\n",
    "# for c, filename in enumerate(os.listdir(folder)):\n",
    "#     dst = f\"{str(count)}.png\"\n",
    "#     src =f\"{folder}/{filename}\"  # foldername/filename, if .py file is outside folder\n",
    "#     dst =f\"{folder}/{dst}\"\n",
    "#     count += 1\n",
    "#     os.rename(src, dst)"
   ]
  },
  {
   "cell_type": "code",
   "execution_count": 2,
   "id": "d5c49031-2613-487f-9408-e0fb59b00e60",
   "metadata": {},
   "outputs": [],
   "source": [
    "input_shape = (128, 128, 3)\n",
    "data_dir = 'dataset'\n",
    "batch_size = 64\n",
    "img_shape = 128"
   ]
  },
  {
   "cell_type": "code",
   "execution_count": 3,
   "id": "295fa601-1135-41b1-bb4d-4f8785375053",
   "metadata": {},
   "outputs": [],
   "source": [
    "def process_path(file_path):\n",
    "    label = tf.strings.split(file_path, os.path.sep)[-2]\n",
    "    label_arr = None\n",
    "    if label == 'fake':\n",
    "        label_arr = np.array([1,0])\n",
    "    else:\n",
    "        label_arr = np.array([0,1])\n",
    "    img = tf.io.read_file(file_path)\n",
    "    img = tf.image.decode_png(img)\n",
    "    img = tf.image.convert_image_dtype(img, tf.float32)\n",
    "    return (img, label_arr)\n",
    "\n",
    "def scale(image, label):\n",
    "    return (image / 255, label)\n",
    "    \n",
    "tf_dataset = tf.data.Dataset.list_files('dataset/*/*')\n",
    "train_ds = tf_dataset.shuffle(1024).map(process_path, num_parallel_calls = tf.data.AUTOTUNE).cache().repeat().batch(64).prefetch(tf.data.AUTOTUNE)\n",
    "val_ds = tf_dataset.shuffle(1024).map(process_path, num_parallel_calls = tf.data.AUTOTUNE).cache().batch(32).prefetch(tf.data.AUTOTUNE)\n",
    "test_ds = tf_dataset.shuffle(1024).map(process_path, num_parallel_calls = tf.data.AUTOTUNE).cache().batch(32).prefetch(tf.data.AUTOTUNE)"
   ]
  },
  {
   "cell_type": "code",
   "execution_count": 3,
   "id": "62eaac4f-b152-447d-b12a-3ee6c68a2cb6",
   "metadata": {},
   "outputs": [],
   "source": [
    "# real_data = [f for f in os.listdir(data_dir+'/real') if f.endswith('.png')]\n",
    "# fake_data = [f for f in os.listdir(data_dir+'/fake') if f.endswith('.png')]\n",
    "\n",
    "# X = []\n",
    "# Y = []\n",
    "\n",
    "# for img in real_data:\n",
    "#     X.append(img_to_array(load_img(data_dir+'/real/'+img)).flatten())\n",
    "#     Y.append(1)\n",
    "# for img in fake_data:\n",
    "#     X.append(img_to_array(load_img(data_dir+'/fake/'+img)).flatten())\n",
    "#     Y.append(0)\n",
    "\n",
    "# Y_val_org = Y\n",
    "\n",
    "# #Normalization\n",
    "# X = np.array(X)\n",
    "# Y = to_categorical(Y, 2)\n",
    "\n",
    "# #Reshape\n",
    "# X = X.reshape(-1, 128, 128, 3)\n",
    "\n",
    "# #Train-Test split\n",
    "# X_train, X_val, Y_train, Y_val = train_test_split(X, Y, test_size = 0.25, random_state=42)"
   ]
  },
  {
   "cell_type": "code",
   "execution_count": 4,
   "id": "2e37e7b0-8227-41d9-a187-8ff4c6d3d4f5",
   "metadata": {},
   "outputs": [
    {
     "name": "stdout",
     "output_type": "stream",
     "text": [
      "Model: \"sequential\"\n",
      "_________________________________________________________________\n",
      "Layer (type)                 Output Shape              Param #   \n",
      "=================================================================\n",
      "inception_resnet_v2 (Functio (None, 2, 2, 1536)        54336736  \n",
      "_________________________________________________________________\n",
      "global_average_pooling2d (Gl (None, 1536)              0         \n",
      "_________________________________________________________________\n",
      "dropout (Dropout)            (None, 1536)              0         \n",
      "_________________________________________________________________\n",
      "dense (Dense)                (None, 2)                 3074      \n",
      "=================================================================\n",
      "Total params: 54,339,810\n",
      "Trainable params: 54,279,266\n",
      "Non-trainable params: 60,544\n",
      "_________________________________________________________________\n"
     ]
    }
   ],
   "source": [
    "from tensorflow.keras.applications import InceptionResNetV2\n",
    "from tensorflow.keras.layers import Conv2D\n",
    "from tensorflow.keras.layers import MaxPooling2D\n",
    "from tensorflow.keras.layers import Flatten\n",
    "from tensorflow.keras.layers import Dense\n",
    "from tensorflow.keras.layers import Dropout\n",
    "from tensorflow.keras.layers import InputLayer, Rescaling\n",
    "from tensorflow.keras.layers import GlobalAveragePooling2D\n",
    "from tensorflow.keras.models import Sequential\n",
    "from tensorflow.keras.models import Model\n",
    "from tensorflow.keras import optimizers\n",
    "from tensorflow.keras.callbacks import ReduceLROnPlateau, EarlyStopping\n",
    "\n",
    "googleNet_model = InceptionResNetV2(include_top=False, weights='imagenet', input_shape=input_shape)\n",
    "googleNet_model.trainable = True\n",
    "model = Sequential()\n",
    "model.add(googleNet_model)\n",
    "model.add(GlobalAveragePooling2D())\n",
    "model.add(Dropout(0.3))\n",
    "model.add(Dense(units=2, activation='softmax'))\n",
    "model.compile(loss='binary_crossentropy',\n",
    "              optimizer=optimizers.Adam(learning_rate=1e-3, beta_1=0.9, beta_2=0.999, epsilon=None, decay=0.0, amsgrad=False),\n",
    "              metrics=['accuracy'])\n",
    "model.summary()"
   ]
  },
  {
   "cell_type": "code",
   "execution_count": 5,
   "id": "9fcc5da1-9acc-43b2-8f20-846a0584314e",
   "metadata": {},
   "outputs": [
    {
     "name": "stdout",
     "output_type": "stream",
     "text": [
      "Epoch 1/15\n",
      "100/100 [==============================] - 83s 665ms/step - loss: 0.2790 - accuracy: 0.9097 - val_loss: 24.1753 - val_accuracy: 0.8998\n",
      "Epoch 2/15\n",
      "100/100 [==============================] - 62s 623ms/step - loss: 0.1601 - accuracy: 0.9495 - val_loss: 0.3158 - val_accuracy: 0.9239\n",
      "Epoch 3/15\n",
      "100/100 [==============================] - 62s 627ms/step - loss: 0.1035 - accuracy: 0.9627 - val_loss: 0.2121 - val_accuracy: 0.9404\n",
      "Epoch 4/15\n",
      "100/100 [==============================] - 62s 620ms/step - loss: 0.0980 - accuracy: 0.9672 - val_loss: 0.3583 - val_accuracy: 0.9480\n",
      "Epoch 5/15\n",
      "100/100 [==============================] - 62s 619ms/step - loss: 0.0834 - accuracy: 0.9741 - val_loss: 0.1774 - val_accuracy: 0.9581\n",
      "Epoch 6/15\n",
      "100/100 [==============================] - 61s 618ms/step - loss: 0.0843 - accuracy: 0.9727 - val_loss: 0.0808 - val_accuracy: 0.9778\n",
      "Epoch 7/15\n",
      "100/100 [==============================] - 61s 618ms/step - loss: 0.0881 - accuracy: 0.9689 - val_loss: 0.0977 - val_accuracy: 0.9693\n",
      "Epoch 8/15\n",
      "100/100 [==============================] - 62s 619ms/step - loss: 0.0671 - accuracy: 0.9742 - val_loss: 0.1084 - val_accuracy: 0.9574\n",
      "Epoch 9/15\n",
      "100/100 [==============================] - 62s 624ms/step - loss: 0.0492 - accuracy: 0.9831 - val_loss: 0.0848 - val_accuracy: 0.9686\n",
      "Epoch 10/15\n",
      "100/100 [==============================] - 62s 622ms/step - loss: 0.0557 - accuracy: 0.9791 - val_loss: 0.0301 - val_accuracy: 0.9890\n",
      "Epoch 11/15\n",
      "100/100 [==============================] - 62s 620ms/step - loss: 0.0364 - accuracy: 0.9875 - val_loss: 0.2752 - val_accuracy: 0.9183\n",
      "Epoch 12/15\n",
      "100/100 [==============================] - 62s 621ms/step - loss: 0.0454 - accuracy: 0.9823 - val_loss: 0.0583 - val_accuracy: 0.9800\n",
      "Epoch 13/15\n",
      "100/100 [==============================] - 62s 620ms/step - loss: 0.0336 - accuracy: 0.9878 - val_loss: 0.0496 - val_accuracy: 0.9825\n",
      "Epoch 14/15\n",
      "100/100 [==============================] - 62s 621ms/step - loss: 0.0362 - accuracy: 0.9878 - val_loss: 0.0514 - val_accuracy: 0.9799\n",
      "Epoch 15/15\n",
      "100/100 [==============================] - 62s 619ms/step - loss: 0.0386 - accuracy: 0.9855 - val_loss: 0.0318 - val_accuracy: 0.9880\n"
     ]
    }
   ],
   "source": [
    "EPOCHS = 15\n",
    "BATCH_SIZE = 64\n",
    "history = model.fit(train_ds, batch_size = BATCH_SIZE, steps_per_epoch = 100, epochs = EPOCHS, validation_data = val_ds, verbose = 1)"
   ]
  },
  {
   "cell_type": "code",
   "execution_count": 6,
   "id": "b2f28945-8082-4564-96e0-09bcc3524d79",
   "metadata": {
    "tags": []
   },
   "outputs": [
    {
     "data": {
      "image/png": "[encoded data removed]",
      "text/plain": [
       "<Figure size 1440x288 with 2 Axes>"
      ]
     },
     "metadata": {
      "needs_background": "light"
     },
     "output_type": "display_data"
    }
   ],
   "source": [
    "model.save('deepfake-detection-model.h5')\n",
    "\n",
    "f, (ax1, ax2) = plt.subplots(1, 2, figsize=(20, 4))\n",
    "t = f.suptitle('Pre-trained InceptionResNetV2 Transfer Learn with Fine-Tuning & Image Augmentation Performance ', fontsize=12)\n",
    "f.subplots_adjust(top=0.85, wspace=0.3)\n",
    "\n",
    "epoch_list = list(range(1,EPOCHS+1))\n",
    "ax1.plot(epoch_list, history.history['accuracy'], label='Train Accuracy')\n",
    "ax1.plot(epoch_list, history.history['val_accuracy'], label='Validation Accuracy')\n",
    "ax1.set_xticks(np.arange(0, EPOCHS+1, 1))\n",
    "ax1.set_ylabel('Accuracy Value')\n",
    "ax1.set_xlabel('Epoch #')\n",
    "ax1.set_title('Accuracy')\n",
    "l1 = ax1.legend(loc=\"best\")\n",
    "\n",
    "ax2.plot(epoch_list, history.history['loss'], label='Train Loss')\n",
    "ax2.plot(epoch_list, history.history['val_loss'], label='Validation Loss')\n",
    "ax2.set_xticks(np.arange(0, EPOCHS+1, 1))\n",
    "ax2.set_ylabel('Loss Value')\n",
    "ax2.set_xlabel('Epoch #')\n",
    "ax2.set_title('Loss')\n",
    "l2 = ax2.legend(loc=\"best\")"
   ]
  },
  {
   "cell_type": "code",
   "execution_count": null,
   "id": "125004f4-2f95-487e-b905-37962d9bed3a",
   "metadata": {},
   "outputs": [],
   "source": [
    "#Output confusion matrix\n",
    "def print_confusion_matrix(y_true, y_pred):\n",
    "    cm = confusion_matrix(y_true, y_pred)\n",
    "    print('True positive = ', cm[0][0])\n",
    "    print('False positive = ', cm[0][1])\n",
    "    print('False negative = ', cm[1][0])\n",
    "    print('True negative = ', cm[1][1])\n",
    "    print('\\n')\n",
    "    df_cm = pd.DataFrame(cm, range(2), range(2))\n",
    "    sn.set(font_scale=1.4) # for label size\n",
    "    sn.heatmap(df_cm, annot=True, annot_kws={\"size\": 16}) # font size\n",
    "    plt.ylabel('Actual label', size = 20)\n",
    "    plt.xlabel('Predicted label', size = 20)\n",
    "    plt.xticks(np.arange(2), ['Fake', 'Real'], size = 16)\n",
    "    plt.yticks(np.arange(2), ['Fake', 'Real'], size = 16)\n",
    "    plt.ylim([2, 0])\n",
    "    plt.show()\n",
    "    \n",
    "model = load_model('deepfake-detection-model.h5');\n",
    "print_confusion_matrix(Y_val_org, np.argmax(model.predict(X),axis=1))"
   ]
  }
 ],
 "metadata": {
  "kernelspec": {
   "display_name": "Python 3 (ipykernel)",
   "language": "python",
   "name": "python3"
  },
  "language_info": {
   "codemirror_mode": {
    "name": "ipython",
    "version": 3
   },
   "file_extension": ".py",
   "mimetype": "text/x-python",
   "name": "python",
   "nbconvert_exporter": "python",
   "pygments_lexer": "ipython3",
   "version": "3.9.7"
  },
  "vscode": {
   "interpreter": {
    "hash": "81794d4967e6c3204c66dcd87b604927b115b27c00565d3d43f05ba2f3a2cb0d"
   }
  }
 },
 "nbformat": 4,
 "nbformat_minor": 5
}
