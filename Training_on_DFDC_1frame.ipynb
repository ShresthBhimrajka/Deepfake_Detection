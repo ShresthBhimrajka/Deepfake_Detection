{
 "cells": [
  {
   "cell_type": "code",
   "execution_count": 1,
   "id": "bfd140ec-3523-462c-be25-4714ec629410",
   "metadata": {},
   "outputs": [],
   "source": [
    "import os\n",
    "import tensorflow as tf\n",
    "import numpy as np\n",
    "import matplotlib.pyplot as plt\n",
    "import seaborn as sn\n",
    "import pandas as pd\n",
    "from tensorflow.keras.preprocessing.image import img_to_array, load_img\n",
    "from tensorflow.keras.models import load_model\n",
    "from sklearn.metrics import confusion_matrix"
   ]
  },
  {
   "cell_type": "code",
   "execution_count": 2,
   "id": "d5c49031-2613-487f-9408-e0fb59b00e60",
   "metadata": {},
   "outputs": [],
   "source": [
    "img_shape = 128\n",
    "input_shape = (img_shape, img_shape, 3)\n",
    "EPOCHS = 10\n",
    "BATCH_SIZE = 32"
   ]
  },
  {
   "cell_type": "code",
   "execution_count": 8,
   "id": "295fa601-1135-41b1-bb4d-4f8785375053",
   "metadata": {},
   "outputs": [],
   "source": [
    "def process_path(file_path):\n",
    "    label = tf.strings.split(file_path, os.path.sep)[-2]\n",
    "    label_arr = None\n",
    "    if label == 'fake':\n",
    "        label_arr = 0\n",
    "    else:\n",
    "        label_arr = 1\n",
    "    img = tf.io.read_file(file_path)\n",
    "    img = tf.image.decode_jpeg(img)\n",
    "    img = tf.image.resize(img, [img_shape, img_shape])\n",
    "    img = tf.image.convert_image_dtype(img, tf.float32)\n",
    "    return (img, label_arr)\n",
    "\n",
    "def scale(image, label):\n",
    "    return (image / 255, label)\n",
    "\n",
    "train_ds = tf.data.Dataset.list_files('1framedfd/dataset/train/*/*')\n",
    "test_ds = tf.data.Dataset.list_files('1framedfd/dataset/test/*/*')\n",
    "val_ds = tf.data.Dataset.list_files('1framedfd/dataset/valid/*/*')\n",
    "\n",
    "train_size = len(train_ds)\n",
    "val_size = len(val_ds)\n",
    "\n",
    "train_ds = train_ds.shuffle(train_size).map(process_path, num_parallel_calls = tf.data.AUTOTUNE).map(scale, num_parallel_calls = tf.data.AUTOTUNE).batch(BATCH_SIZE).repeat(EPOCHS).prefetch(tf.data.AUTOTUNE)\n",
    "val_ds = val_ds.shuffle(val_size).map(process_path, num_parallel_calls = tf.data.AUTOTUNE).map(scale, num_parallel_calls = tf.data.AUTOTUNE).batch(BATCH_SIZE).prefetch(tf.data.AUTOTUNE)\n",
    "test_ds = test_ds.shuffle(val_size).map(process_path, num_parallel_calls = tf.data.AUTOTUNE).map(scale, num_parallel_calls = tf.data.AUTOTUNE).batch(BATCH_SIZE).prefetch(tf.data.AUTOTUNE)"
   ]
  },
  {
   "cell_type": "code",
   "execution_count": 9,
   "id": "2e37e7b0-8227-41d9-a187-8ff4c6d3d4f5",
   "metadata": {},
   "outputs": [],
   "source": [
    "from tensorflow.keras.applications import InceptionResNetV2\n",
    "from tensorflow.keras.layers import Conv2D, BatchNormalization, Input, LeakyReLU, Concatenate\n",
    "from tensorflow.keras.layers import MaxPooling2D\n",
    "from tensorflow.keras.layers import Flatten\n",
    "from tensorflow.keras.layers import Dense\n",
    "from tensorflow.keras.layers import Dropout\n",
    "from tensorflow.keras.layers import InputLayer, Rescaling\n",
    "from tensorflow.keras.layers import GlobalAveragePooling2D\n",
    "from tensorflow.keras.models import Sequential\n",
    "from tensorflow.keras.models import Model\n",
    "from tensorflow.keras import optimizers\n",
    "from tensorflow.keras.callbacks import ReduceLROnPlateau, EarlyStopping, ModelCheckpoint"
   ]
  },
  {
   "cell_type": "code",
   "execution_count": 10,
   "id": "52cf5356-fa25-42dd-9578-109e99623c92",
   "metadata": {},
   "outputs": [],
   "source": [
    "inception_resnet = InceptionResNetV2(include_top = False, weights = 'imagenet', input_shape = input_shape)\n",
    "inception_resnet.trainable = True\n",
    "model = Sequential()\n",
    "model.add(inception_resnet)\n",
    "model.add(GlobalAveragePooling2D())\n",
    "model.add(Dense(units = 16, activation = 'relu'))\n",
    "model.add(Dense(units = 1, activation = 'sigmoid'))"
   ]
  },
  {
   "cell_type": "code",
   "execution_count": 11,
   "id": "2626a8df-18ad-4252-930e-1e9234f29bb6",
   "metadata": {},
   "outputs": [
    {
     "name": "stdout",
     "output_type": "stream",
     "text": [
      "Model: \"sequential_1\"\n",
      "_________________________________________________________________\n",
      "Layer (type)                 Output Shape              Param #   \n",
      "=================================================================\n",
      "inception_resnet_v2 (Functio (None, 2, 2, 1536)        54336736  \n",
      "_________________________________________________________________\n",
      "global_average_pooling2d_1 ( (None, 1536)              0         \n",
      "_________________________________________________________________\n",
      "dense_2 (Dense)              (None, 16)                24592     \n",
      "_________________________________________________________________\n",
      "dense_3 (Dense)              (None, 1)                 17        \n",
      "=================================================================\n",
      "Total params: 54,361,345\n",
      "Trainable params: 54,300,801\n",
      "Non-trainable params: 60,544\n",
      "_________________________________________________________________\n"
     ]
    }
   ],
   "source": [
    "model.compile(loss = 'binary_crossentropy', optimizer = optimizers.Adam(learning_rate = 1e-3), metrics = ['accuracy'])\n",
    "model.summary()"
   ]
  },
  {
   "cell_type": "code",
   "execution_count": 12,
   "id": "9fcc5da1-9acc-43b2-8f20-846a0584314e",
   "metadata": {},
   "outputs": [
    {
     "name": "stdout",
     "output_type": "stream",
     "text": [
      "Epoch 1/10\n",
      "2390/2390 [==============================] - 530s 218ms/step - loss: 0.4152 - accuracy: 0.8292 - val_loss: 0.4706 - val_accuracy: 0.8297\n",
      "\n",
      "Epoch 00001: val_loss improved from inf to 0.47059, saving model to checkpoints\\best_dfd_inception_resnet_1framedfd.hdf5\n",
      "Epoch 2/10\n",
      "2390/2390 [==============================] - 509s 212ms/step - loss: 0.4174 - accuracy: 0.8296 - val_loss: 0.4610 - val_accuracy: 0.8317\n",
      "\n",
      "Epoch 00002: val_loss improved from 0.47059 to 0.46096, saving model to checkpoints\\best_dfd_inception_resnet_1framedfd.hdf5\n",
      "Epoch 3/10\n",
      "2390/2390 [==============================] - 502s 210ms/step - loss: 0.3891 - accuracy: 0.8391 - val_loss: 0.3723 - val_accuracy: 0.8472\n",
      "\n",
      "Epoch 00003: val_loss improved from 0.46096 to 0.37228, saving model to checkpoints\\best_dfd_inception_resnet_1framedfd.hdf5\n",
      "Epoch 4/10\n",
      "2390/2390 [==============================] - 504s 211ms/step - loss: 0.3723 - accuracy: 0.8457 - val_loss: 0.4931 - val_accuracy: 0.8486\n",
      "\n",
      "Epoch 00004: val_loss did not improve from 0.37228\n",
      "Epoch 5/10\n",
      "2390/2390 [==============================] - 508s 213ms/step - loss: 0.3369 - accuracy: 0.8611 - val_loss: 0.7738 - val_accuracy: 0.8552\n",
      "\n",
      "Epoch 00005: val_loss did not improve from 0.37228\n",
      "Epoch 6/10\n",
      "2390/2390 [==============================] - 509s 213ms/step - loss: 0.3405 - accuracy: 0.8595 - val_loss: 0.7258 - val_accuracy: 0.8558\n",
      "\n",
      "Epoch 00006: val_loss did not improve from 0.37228\n",
      "Epoch 7/10\n",
      "2390/2390 [==============================] - 517s 216ms/step - loss: 0.2792 - accuracy: 0.8864 - val_loss: 0.4283 - val_accuracy: 0.8884\n",
      "\n",
      "Epoch 00007: val_loss did not improve from 0.37228\n",
      "Epoch 8/10\n",
      "2390/2390 [==============================] - 520s 218ms/step - loss: 0.2592 - accuracy: 0.8944 - val_loss: 0.2841 - val_accuracy: 0.8933\n",
      "\n",
      "Epoch 00008: val_loss improved from 0.37228 to 0.28413, saving model to checkpoints\\best_dfd_inception_resnet_1framedfd.hdf5\n",
      "Epoch 9/10\n",
      "2390/2390 [==============================] - 523s 219ms/step - loss: 0.2506 - accuracy: 0.8988 - val_loss: 0.6393 - val_accuracy: 0.8914\n",
      "\n",
      "Epoch 00009: val_loss did not improve from 0.28413\n",
      "Epoch 10/10\n",
      "2390/2390 [==============================] - 525s 220ms/step - loss: 0.2466 - accuracy: 0.8995 - val_loss: 0.3412 - val_accuracy: 0.8827\n",
      "\n",
      "Epoch 00010: val_loss did not improve from 0.28413\n"
     ]
    }
   ],
   "source": [
    "checkpoint_callback = ModelCheckpoint(\n",
    "    filepath = 'checkpoints/best_dfd_inception_resnet_1framedfd.hdf5',\n",
    "    monitor = 'val_loss',\n",
    "    verbose = 1,\n",
    "    save_best_only = True,\n",
    "    mode = 'min')\n",
    "\n",
    "reduce_lr = ReduceLROnPlateau(monitor = 'val_loss', \n",
    "                              factor = 0.2,\n",
    "                              patience = 3, \n",
    "                              min_lr = 0.0001)\n",
    "\n",
    "STEPS = train_size // BATCH_SIZE\n",
    "callbacks = [checkpoint_callback, reduce_lr]\n",
    "history = model.fit(train_ds, batch_size = BATCH_SIZE, steps_per_epoch = STEPS, epochs = EPOCHS, callbacks = callbacks, validation_data = val_ds, verbose = 1)"
   ]
  },
  {
   "cell_type": "code",
   "execution_count": 13,
   "id": "b2f28945-8082-4564-96e0-09bcc3524d79",
   "metadata": {
    "tags": []
   },
   "outputs": [
    {
     "name": "stdout",
     "output_type": "stream",
     "text": [
      "INFO:tensorflow:Assets written to: models/dfd_model_1framedfd\\assets\n"
     ]
    },
    {
     "data": {
      "image/png": "[encoded data removed]",
      "text/plain": [
       "<Figure size 1440x288 with 2 Axes>"
      ]
     },
     "metadata": {
      "needs_background": "light"
     },
     "output_type": "display_data"
    }
   ],
   "source": [
    "model.save('models/dfd_model_1framedfd')\n",
    "\n",
    "f, (ax1, ax2) = plt.subplots(1, 2, figsize = (20, 4))\n",
    "t = f.suptitle('InceptionResNetV2 on Kaggle Dataset 1framedfd', fontsize = 12)\n",
    "f.subplots_adjust(top = 0.85, wspace = 0.3)\n",
    "\n",
    "epoch_list = list(range(1, EPOCHS + 1))\n",
    "ax1.plot(epoch_list, history.history['accuracy'], label = 'Train Accuracy')\n",
    "ax1.plot(epoch_list, history.history['val_accuracy'], label = 'Validation Accuracy')\n",
    "ax1.set_xticks(np.arange(0, EPOCHS + 1, 1))\n",
    "ax1.set_ylabel('Accuracy Value')\n",
    "ax1.set_xlabel('Epoch #')\n",
    "ax1.set_title('Accuracy')\n",
    "l1 = ax1.legend(loc=\"best\")\n",
    "\n",
    "ax2.plot(epoch_list, history.history['loss'], label = 'Train Loss')\n",
    "ax2.plot(epoch_list, history.history['val_loss'], label = 'Validation Loss')\n",
    "ax2.set_xticks(np.arange(0, EPOCHS + 1, 1))\n",
    "ax2.set_ylabel('Loss Value')\n",
    "ax2.set_xlabel('Epoch #')\n",
    "ax2.set_title('Loss')\n",
    "l2 = ax2.legend(loc = \"best\")"
   ]
  },
  {
   "cell_type": "code",
   "execution_count": 14,
   "id": "1189e77f-a598-4073-890b-c4b745b82ee6",
   "metadata": {},
   "outputs": [
    {
     "name": "stdout",
     "output_type": "stream",
     "text": [
      "299/299 [==============================] - 20s 68ms/step - loss: 0.3387 - accuracy: 0.8823\n",
      "['loss', 'accuracy']\n",
      "[0.33865728974342346, 0.8822545409202576]\n"
     ]
    }
   ],
   "source": [
    "results = model.evaluate(test_ds)\n",
    "print(model.metrics_names)\n",
    "print(results)"
   ]
  },
  {
   "cell_type": "code",
   "execution_count": null,
   "id": "125004f4-2f95-487e-b905-37962d9bed3a",
   "metadata": {},
   "outputs": [],
   "source": [
    "#Output confusion matrix\n",
    "def print_confusion_matrix(y_true, y_pred):\n",
    "    cm = confusion_matrix(y_true, y_pred)\n",
    "    print('True positive = ', cm[0][0])\n",
    "    print('False positive = ', cm[0][1])\n",
    "    print('False negative = ', cm[1][0])\n",
    "    print('True negative = ', cm[1][1])\n",
    "    print('\\n')\n",
    "    df_cm = pd.DataFrame(cm, range(2), range(2))\n",
    "    sn.set(font_scale=1.4) # for label size\n",
    "    sn.heatmap(df_cm, annot=True, annot_kws={\"size\": 16}) # font size\n",
    "    plt.ylabel('Actual label', size = 20)\n",
    "    plt.xlabel('Predicted label', size = 20)\n",
    "    plt.xticks(np.arange(2), ['Fake', 'Real'], size = 16)\n",
    "    plt.yticks(np.arange(2), ['Fake', 'Real'], size = 16)\n",
    "    plt.ylim([2, 0])\n",
    "    plt.show()\n",
    "    \n",
    "print_confusion_matrix(Y_val_org, np.argmax(model.predict(X),axis=1))"
   ]
  }
 ],
 "metadata": {
  "kernelspec": {
   "display_name": "Python 3 (ipykernel)",
   "language": "python",
   "name": "python3"
  },
  "language_info": {
   "codemirror_mode": {
    "name": "ipython",
    "version": 3
   },
   "file_extension": ".py",
   "mimetype": "text/x-python",
   "name": "python",
   "nbconvert_exporter": "python",
   "pygments_lexer": "ipython3",
   "version": "3.9.7"
  },
  "vscode": {
   "interpreter": {
    "hash": "81794d4967e6c3204c66dcd87b604927b115b27c00565d3d43f05ba2f3a2cb0d"
   }
  }
 },
 "nbformat": 4,
 "nbformat_minor": 5
}
