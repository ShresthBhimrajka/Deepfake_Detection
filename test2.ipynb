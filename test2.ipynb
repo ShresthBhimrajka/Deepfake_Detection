{
 "cells": [
  {
   "cell_type": "code",
   "execution_count": 1,
   "id": "bfd140ec-3523-462c-be25-4714ec629410",
   "metadata": {},
   "outputs": [],
   "source": [
    "import os\n",
    "import tensorflow as tf\n",
    "import numpy as np\n",
    "import matplotlib.pyplot as plt\n",
    "import seaborn as sn\n",
    "import pandas as pd\n",
    "from tensorflow.keras.preprocessing.image import img_to_array, load_img\n",
    "from tensorflow.keras.models import load_model\n",
    "from sklearn.metrics import confusion_matrix"
   ]
  },
  {
   "cell_type": "code",
   "execution_count": 2,
   "id": "d5c49031-2613-487f-9408-e0fb59b00e60",
   "metadata": {},
   "outputs": [],
   "source": [
    "img_shape = 128\n",
    "input_shape = (img_shape, img_shape, 3)\n",
    "EPOCHS = 20\n",
    "BATCH_SIZE = 32"
   ]
  },
  {
   "cell_type": "code",
   "execution_count": 3,
   "id": "295fa601-1135-41b1-bb4d-4f8785375053",
   "metadata": {},
   "outputs": [],
   "source": [
    "def process_path(file_path):\n",
    "    label = tf.strings.split(file_path, os.path.sep)[-2]\n",
    "    label_arr = None\n",
    "    if label == 'fake':\n",
    "        label_arr = 0\n",
    "    else:\n",
    "        label_arr = 1\n",
    "    img = tf.io.read_file(file_path)\n",
    "    img = tf.image.decode_jpeg(img)\n",
    "    img = tf.image.resize(img, [img_shape, img_shape])\n",
    "    img = tf.image.convert_image_dtype(img, tf.float32)\n",
    "    return (img, label_arr)\n",
    "\n",
    "def scale(image, label):\n",
    "    return (image / 255, label)\n",
    "\n",
    "train_ds = tf.data.Dataset.list_files('1framedfd/dataset/train/*/*')\n",
    "test_ds = tf.data.Dataset.list_files('1framedfd/dataset/test/*/*')\n",
    "val_ds = tf.data.Dataset.list_files('1framedfd/dataset/valid/*/*')\n",
    "\n",
    "train_size = len(train_ds)\n",
    "val_size = len(val_ds)\n",
    "\n",
    "train_ds = train_ds.shuffle(train_size).map(process_path, num_parallel_calls = tf.data.AUTOTUNE).map(scale, num_parallel_calls = tf.data.AUTOTUNE).batch(BATCH_SIZE).repeat(EPOCHS).prefetch(tf.data.AUTOTUNE)\n",
    "val_ds = val_ds.shuffle(val_size).map(process_path, num_parallel_calls = tf.data.AUTOTUNE).map(scale, num_parallel_calls = tf.data.AUTOTUNE).batch(BATCH_SIZE).prefetch(tf.data.AUTOTUNE)\n",
    "test_ds = test_ds.shuffle(val_size).map(process_path, num_parallel_calls = tf.data.AUTOTUNE).map(scale, num_parallel_calls = tf.data.AUTOTUNE).batch(BATCH_SIZE).prefetch(tf.data.AUTOTUNE)"
   ]
  },
  {
   "cell_type": "code",
   "execution_count": 4,
   "id": "2e37e7b0-8227-41d9-a187-8ff4c6d3d4f5",
   "metadata": {},
   "outputs": [],
   "source": [
    "from tensorflow.keras.applications import InceptionResNetV2\n",
    "from tensorflow.keras.layers import Conv2D, BatchNormalization, Input, LeakyReLU, Concatenate\n",
    "from tensorflow.keras.layers import MaxPooling2D\n",
    "from tensorflow.keras.layers import Flatten\n",
    "from tensorflow.keras.layers import Dense\n",
    "from tensorflow.keras.layers import Dropout\n",
    "from tensorflow.keras.layers import InputLayer, Rescaling\n",
    "from tensorflow.keras.layers import GlobalAveragePooling2D\n",
    "from tensorflow.keras.models import Sequential\n",
    "from tensorflow.keras.models import Model\n",
    "from tensorflow.keras import optimizers\n",
    "from tensorflow.keras.callbacks import ReduceLROnPlateau, EarlyStopping, ModelCheckpoint"
   ]
  },
  {
   "cell_type": "code",
   "execution_count": 5,
   "id": "52cf5356-fa25-42dd-9578-109e99623c92",
   "metadata": {},
   "outputs": [],
   "source": [
    "inception_resnet = InceptionResNetV2(include_top = False, weights = 'imagenet', input_shape = input_shape)\n",
    "inception_resnet.trainable = True\n",
    "model = Sequential()\n",
    "model.add(inception_resnet)\n",
    "model.add(GlobalAveragePooling2D())\n",
    "model.add(Dense(units = 16, activation = 'relu'))\n",
    "model.add(Dense(units = 16, activation = 'relu'))\n",
    "model.add(Dense(units = 1, activation = 'sigmoid'))"
   ]
  },
  {
   "cell_type": "code",
   "execution_count": 6,
   "id": "2626a8df-18ad-4252-930e-1e9234f29bb6",
   "metadata": {},
   "outputs": [
    {
     "name": "stdout",
     "output_type": "stream",
     "text": [
      "Model: \"sequential\"\n",
      "_________________________________________________________________\n",
      "Layer (type)                 Output Shape              Param #   \n",
      "=================================================================\n",
      "inception_resnet_v2 (Functio (None, 2, 2, 1536)        54336736  \n",
      "_________________________________________________________________\n",
      "global_average_pooling2d (Gl (None, 1536)              0         \n",
      "_________________________________________________________________\n",
      "dense (Dense)                (None, 16)                24592     \n",
      "_________________________________________________________________\n",
      "dense_1 (Dense)              (None, 16)                272       \n",
      "_________________________________________________________________\n",
      "dense_2 (Dense)              (None, 1)                 17        \n",
      "=================================================================\n",
      "Total params: 54,361,617\n",
      "Trainable params: 54,301,073\n",
      "Non-trainable params: 60,544\n",
      "_________________________________________________________________\n"
     ]
    }
   ],
   "source": [
    "model.compile(loss = 'binary_crossentropy', optimizer = optimizers.Adam(learning_rate = 1e-3), metrics = ['accuracy'])\n",
    "model.summary()"
   ]
  },
  {
   "cell_type": "code",
   "execution_count": 8,
   "id": "9fcc5da1-9acc-43b2-8f20-846a0584314e",
   "metadata": {},
   "outputs": [
    {
     "name": "stdout",
     "output_type": "stream",
     "text": [
      "Epoch 1/20\n",
      "2390/2390 [==============================] - 499s 209ms/step - loss: 0.4039 - accuracy: 0.8344 - val_loss: 0.4891 - val_accuracy: 0.8144\n",
      "\n",
      "Epoch 00001: val_loss improved from inf to 0.48909, saving model to checkpoints\\best_dfd_inception_resnet_1framedfd.hdf5\n",
      "Epoch 2/20\n",
      "2390/2390 [==============================] - 499s 209ms/step - loss: 0.4013 - accuracy: 0.8375 - val_loss: 0.4028 - val_accuracy: 0.8411\n",
      "\n",
      "Epoch 00002: val_loss improved from 0.48909 to 0.40281, saving model to checkpoints\\best_dfd_inception_resnet_1framedfd.hdf5\n",
      "Epoch 3/20\n",
      "2390/2390 [==============================] - 499s 209ms/step - loss: 0.3812 - accuracy: 0.8428 - val_loss: 0.7240 - val_accuracy: 0.8367\n",
      "\n",
      "Epoch 00003: val_loss did not improve from 0.40281\n",
      "Epoch 4/20\n",
      "2390/2390 [==============================] - 499s 209ms/step - loss: 0.3580 - accuracy: 0.8508 - val_loss: 0.8729 - val_accuracy: 0.8482\n",
      "\n",
      "Epoch 00004: val_loss did not improve from 0.40281\n",
      "Epoch 5/20\n",
      "2390/2390 [==============================] - 498s 208ms/step - loss: 0.3416 - accuracy: 0.8566 - val_loss: 0.3357 - val_accuracy: 0.8629\n",
      "\n",
      "Epoch 00005: val_loss improved from 0.40281 to 0.33570, saving model to checkpoints\\best_dfd_inception_resnet_1framedfd.hdf5\n",
      "Epoch 6/20\n",
      "2390/2390 [==============================] - 498s 208ms/step - loss: 0.3421 - accuracy: 0.8589 - val_loss: 0.3635 - val_accuracy: 0.8569\n",
      "\n",
      "Epoch 00006: val_loss did not improve from 0.33570\n",
      "Epoch 7/20\n",
      "2390/2390 [==============================] - 510s 213ms/step - loss: 0.3284 - accuracy: 0.8652 - val_loss: 0.3085 - val_accuracy: 0.8758\n",
      "\n",
      "Epoch 00007: val_loss improved from 0.33570 to 0.30849, saving model to checkpoints\\best_dfd_inception_resnet_1framedfd.hdf5\n",
      "Epoch 8/20\n",
      "2390/2390 [==============================] - 498s 208ms/step - loss: 0.3485 - accuracy: 0.8572 - val_loss: 0.5764 - val_accuracy: 0.8539\n",
      "\n",
      "Epoch 00008: val_loss did not improve from 0.30849\n",
      "Epoch 9/20\n",
      "2390/2390 [==============================] - 498s 208ms/step - loss: 0.3393 - accuracy: 0.8605 - val_loss: 0.3987 - val_accuracy: 0.8726\n",
      "\n",
      "Epoch 00009: val_loss did not improve from 0.30849\n",
      "Epoch 10/20\n",
      "2390/2390 [==============================] - 498s 208ms/step - loss: 0.3062 - accuracy: 0.8741 - val_loss: 3.9943 - val_accuracy: 0.8706\n",
      "\n",
      "Epoch 00010: val_loss did not improve from 0.30849\n",
      "\n",
      "Epoch 00010: ReduceLROnPlateau reducing learning rate to 0.00020000000949949026.\n",
      "Epoch 11/20\n",
      "2390/2390 [==============================] - 499s 209ms/step - loss: 0.2564 - accuracy: 0.8965 - val_loss: 0.5824 - val_accuracy: 0.8895\n",
      "\n",
      "Epoch 00011: val_loss did not improve from 0.30849\n",
      "Epoch 12/20\n",
      "2390/2390 [==============================] - 498s 208ms/step - loss: 0.2362 - accuracy: 0.9051 - val_loss: 1.2143 - val_accuracy: 0.8892\n",
      "\n",
      "Epoch 00012: val_loss did not improve from 0.30849\n",
      "Epoch 13/20\n",
      "2390/2390 [==============================] - 498s 208ms/step - loss: 0.2214 - accuracy: 0.9116 - val_loss: 2.2523 - val_accuracy: 0.8948\n",
      "\n",
      "Epoch 00013: val_loss did not improve from 0.30849\n",
      "\n",
      "Epoch 00013: ReduceLROnPlateau reducing learning rate to 0.0001.\n",
      "Epoch 14/20\n",
      "2390/2390 [==============================] - 499s 209ms/step - loss: 0.2017 - accuracy: 0.9206 - val_loss: 2.0495 - val_accuracy: 0.8952\n",
      "\n",
      "Epoch 00014: val_loss did not improve from 0.30849\n",
      "Epoch 15/20\n",
      "2390/2390 [==============================] - 498s 208ms/step - loss: 0.1914 - accuracy: 0.9246 - val_loss: 5.1461 - val_accuracy: 0.8978\n",
      "\n",
      "Epoch 00015: val_loss did not improve from 0.30849\n",
      "Epoch 16/20\n",
      "2390/2390 [==============================] - 498s 208ms/step - loss: 0.1818 - accuracy: 0.9302 - val_loss: 3.7989 - val_accuracy: 0.8980\n",
      "\n",
      "Epoch 00016: val_loss did not improve from 0.30849\n",
      "Epoch 17/20\n",
      "2390/2390 [==============================] - 497s 208ms/step - loss: 0.1750 - accuracy: 0.9320 - val_loss: 5.0383 - val_accuracy: 0.8977\n",
      "\n",
      "Epoch 00017: val_loss did not improve from 0.30849\n",
      "Epoch 18/20\n",
      "2390/2390 [==============================] - 498s 209ms/step - loss: 0.1646 - accuracy: 0.9369 - val_loss: 9.4592 - val_accuracy: 0.8999\n",
      "\n",
      "Epoch 00018: val_loss did not improve from 0.30849\n",
      "Epoch 19/20\n",
      "2390/2390 [==============================] - 498s 208ms/step - loss: 0.1554 - accuracy: 0.9402 - val_loss: 5.3852 - val_accuracy: 0.8989\n",
      "\n",
      "Epoch 00019: val_loss did not improve from 0.30849\n",
      "Epoch 20/20\n",
      "2390/2390 [==============================] - 499s 209ms/step - loss: 0.1480 - accuracy: 0.9433 - val_loss: 4.0261 - val_accuracy: 0.8955\n",
      "\n",
      "Epoch 00020: val_loss did not improve from 0.30849\n"
     ]
    }
   ],
   "source": [
    "checkpoint_callback = ModelCheckpoint(\n",
    "    filepath = 'checkpoints/best_dfd_inception_resnet_1framedfd.hdf5',\n",
    "    monitor = 'val_loss',\n",
    "    verbose = 1,\n",
    "    save_best_only = True,\n",
    "    mode = 'min')\n",
    "\n",
    "reduce_lr = ReduceLROnPlateau(monitor = 'val_loss', \n",
    "                              factor = 0.2,\n",
    "                              patience = 3,\n",
    "                              verbose = 1,\n",
    "                              min_lr = 0.0001)\n",
    "\n",
    "STEPS = train_size // BATCH_SIZE\n",
    "callbacks = [checkpoint_callback, reduce_lr]\n",
    "history = model.fit(train_ds, batch_size = BATCH_SIZE, steps_per_epoch = STEPS, epochs = EPOCHS, callbacks = callbacks, validation_data = val_ds, verbose = 1)"
   ]
  },
  {
   "cell_type": "code",
   "execution_count": 9,
   "id": "b2f28945-8082-4564-96e0-09bcc3524d79",
   "metadata": {
    "tags": []
   },
   "outputs": [
    {
     "data": {
      "image/png": "[encoded data removed]",
      "text/plain": [
       "<Figure size 1440x288 with 2 Axes>"
      ]
     },
     "metadata": {
      "needs_background": "light"
     },
     "output_type": "display_data"
    }
   ],
   "source": [
    "# model.save('models/dfd_model_1framedfd')\n",
    "\n",
    "f, (ax1, ax2) = plt.subplots(1, 2, figsize = (20, 4))\n",
    "t = f.suptitle('InceptionResNetV2 on Kaggle Dataset 1framedfd', fontsize = 12)\n",
    "f.subplots_adjust(top = 0.85, wspace = 0.3)\n",
    "\n",
    "epoch_list = list(range(1, EPOCHS + 1))\n",
    "ax1.plot(epoch_list, history.history['accuracy'], label = 'Train Accuracy')\n",
    "ax1.plot(epoch_list, history.history['val_accuracy'], label = 'Validation Accuracy')\n",
    "ax1.set_xticks(np.arange(0, EPOCHS + 1, 1))\n",
    "ax1.set_ylabel('Accuracy Value')\n",
    "ax1.set_xlabel('Epoch #')\n",
    "ax1.set_title('Accuracy')\n",
    "l1 = ax1.legend(loc=\"best\")\n",
    "\n",
    "ax2.plot(epoch_list, history.history['loss'], label = 'Train Loss')\n",
    "ax2.plot(epoch_list, history.history['val_loss'], label = 'Validation Loss')\n",
    "ax2.set_xticks(np.arange(0, EPOCHS + 1, 1))\n",
    "ax2.set_ylabel('Loss Value')\n",
    "ax2.set_xlabel('Epoch #')\n",
    "ax2.set_title('Loss')\n",
    "l2 = ax2.legend(loc = \"best\")"
   ]
  },
  {
   "cell_type": "code",
   "execution_count": 10,
   "id": "1189e77f-a598-4073-890b-c4b745b82ee6",
   "metadata": {},
   "outputs": [
    {
     "name": "stdout",
     "output_type": "stream",
     "text": [
      "299/299 [==============================] - 21s 69ms/step - loss: 3.8518 - accuracy: 0.8960\n",
      "['loss', 'accuracy']\n",
      "[3.8518309593200684, 0.8959531784057617]\n"
     ]
    }
   ],
   "source": [
    "results = model.evaluate(test_ds)\n",
    "print(model.metrics_names)\n",
    "print(results)"
   ]
  },
  {
   "cell_type": "code",
   "execution_count": null,
   "id": "125004f4-2f95-487e-b905-37962d9bed3a",
   "metadata": {},
   "outputs": [],
   "source": [
    "#Output confusion matrix\n",
    "def print_confusion_matrix(y_true, y_pred):\n",
    "    cm = confusion_matrix(y_true, y_pred)\n",
    "    print('True positive = ', cm[0][0])\n",
    "    print('False positive = ', cm[0][1])\n",
    "    print('False negative = ', cm[1][0])\n",
    "    print('True negative = ', cm[1][1])\n",
    "    print('\\n')\n",
    "    df_cm = pd.DataFrame(cm, range(2), range(2))\n",
    "    sn.set(font_scale=1.4) # for label size\n",
    "    sn.heatmap(df_cm, annot=True, annot_kws={\"size\": 16}) # font size\n",
    "    plt.ylabel('Actual label', size = 20)\n",
    "    plt.xlabel('Predicted label', size = 20)\n",
    "    plt.xticks(np.arange(2), ['Fake', 'Real'], size = 16)\n",
    "    plt.yticks(np.arange(2), ['Fake', 'Real'], size = 16)\n",
    "    plt.ylim([2, 0])\n",
    "    plt.show()\n",
    "    \n",
    "print_confusion_matrix(Y_val_org, np.argmax(model.predict(X),axis=1))"
   ]
  }
 ],
 "metadata": {
  "kernelspec": {
   "display_name": "Python 3 (ipykernel)",
   "language": "python",
   "name": "python3"
  },
  "language_info": {
   "codemirror_mode": {
    "name": "ipython",
    "version": 3
   },
   "file_extension": ".py",
   "mimetype": "text/x-python",
   "name": "python",
   "nbconvert_exporter": "python",
   "pygments_lexer": "ipython3",
   "version": "3.9.7"
  },
  "vscode": {
   "interpreter": {
    "hash": "81794d4967e6c3204c66dcd87b604927b115b27c00565d3d43f05ba2f3a2cb0d"
   }
  }
 },
 "nbformat": 4,
 "nbformat_minor": 5
}
